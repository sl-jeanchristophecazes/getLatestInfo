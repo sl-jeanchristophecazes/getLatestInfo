{
 "cells": [
  {
   "cell_type": "markdown",
   "metadata": {},
   "source": [
    "# Génération d'une query Personalisée sous Athena"
   ]
  },
  {
   "cell_type": "code",
   "execution_count": 27,
   "metadata": {},
   "outputs": [],
   "source": [
    "def makeCustomQueryLines(tableName,dateStart,dateEnd,ListCol):\n",
    "\n",
    "    \n",
    "    A_table = \"a_{}\".format(tableName)\n",
    "    B_table = \"b_{}\".format(tableName)\n",
    "\n",
    "    selectTableAColLine = ''\n",
    "    selectOriginalTable = ''\n",
    "    \n",
    "    for col in ListCol:\n",
    "        atoAppend = A_table + '.' + col \n",
    "        originaltoAppend = tableName + '.' + col \n",
    "        selectTableAColLine = selectTableAColLine + ', ' + atoAppend\n",
    "        selectOriginalTable = selectOriginalTable + ', ' + originaltoAppend\n",
    "\n",
    "    selectTableAColLine = selectTableAColLine[2:]\n",
    "    selectOriginalTable = selectOriginalTable[2:]\n",
    "    innerJoinCol = ListCol[0]\n",
    "\n",
    "    joinOnLine = \"{0}.{2} = {1}.{2} AND {0}.datemaj = {1}.datemaj\".format(A_table,B_table,innerJoinCol)\n",
    "    \n",
    "    return(selectTableAColLine,selectOriginalTable,joinOnLine,innerJoinCol,A_table,B_table)\n",
    "\n",
    "#result = makeCustomQueryLines('annonce_revision','2019-05-01','2019-11-01',['idannonce','surface','annee_construct'])"
   ]
  },
  {
   "cell_type": "code",
   "execution_count": 28,
   "metadata": {},
   "outputs": [],
   "source": [
    "#result"
   ]
  },
  {
   "cell_type": "code",
   "execution_count": 31,
   "metadata": {},
   "outputs": [],
   "source": [
    "def makeCustomQuery(tableName,dateStart,dateEnd,ListCol):\n",
    "\n",
    "    customLines = makeCustomQueryLines(tableName,dateStart,dateEnd,ListCol)\n",
    "    selectTableAColLine = customLines[0]\n",
    "    selectOriginalTable = customLines[1]\n",
    "    joinOnLine = customLines[2]\n",
    "    innerJoinCol = customLines[3]\n",
    "    A_table = customLines[4]\n",
    "    B_table = customLines[5]\n",
    "\n",
    "    with open('sqlSnippetTemplate','r') as file:\n",
    "        query = file.read()\n",
    "\n",
    "    query = query.format(selectTableAColLine,selectOriginalTable,joinOnLine,\\\n",
    "                            innerJoinCol,tableName,dateStart,dateEnd,A_table,B_table)\n",
    "\n",
    "    return(query)"
   ]
  },
  {
   "cell_type": "code",
   "execution_count": 32,
   "metadata": {},
   "outputs": [],
   "source": [
    "import os \n",
    "os.chdir(\"/home/jeanchristophe/codeFolder\")\n",
    "\n",
    "query = makeCustomQuery('annonce_revision','2019-10-15','2019-11-01',['idannonce','surface','si_meuble'])"
   ]
  },
  {
   "cell_type": "code",
   "execution_count": 33,
   "metadata": {},
   "outputs": [],
   "source": [
    "with open('testQuery','w') as file:\n",
    "    file.write(query)"
   ]
  },
  {
   "cell_type": "code",
   "execution_count": null,
   "metadata": {},
   "outputs": [],
   "source": []
  }
 ],
 "metadata": {
  "kernelspec": {
   "display_name": "test",
   "language": "python",
   "name": "test"
  },
  "language_info": {
   "codemirror_mode": {
    "name": "ipython",
    "version": 3
   },
   "file_extension": ".py",
   "mimetype": "text/x-python",
   "name": "python",
   "nbconvert_exporter": "python",
   "pygments_lexer": "ipython3",
   "version": "3.7.5"
  }
 },
 "nbformat": 4,
 "nbformat_minor": 2
}